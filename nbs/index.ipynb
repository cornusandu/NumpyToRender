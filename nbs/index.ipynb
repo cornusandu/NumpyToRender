{
 "cells": [
  {
   "cell_type": "code",
   "execution_count": null,
   "metadata": {},
   "outputs": [],
   "source": [
    "#| hide\n",
    "from np2render.core import *"
   ]
  },
  {
   "cell_type": "markdown",
   "metadata": {},
   "source": [
    "# NumpyToRender\n",
    "\n",
    "> Automatically render a 2D game/window from a 2D numpy array"
   ]
  },
  {
   "cell_type": "markdown",
   "metadata": {},
   "source": [
    "## Usage"
   ]
  },
  {
   "cell_type": "markdown",
   "metadata": {},
   "source": [
    "### Installation"
   ]
  },
  {
   "cell_type": "markdown",
   "metadata": {},
   "source": [
    "Install latest from the GitHub [repository][repo]:\n",
    "\n",
    "```sh\n",
    "$ pip install git+https://github.com/cornusandu/NumpyToRender.git\n",
    "```\n",
    "\n",
    "or from [pypi][pypi]\n",
    "\n",
    "```sh\n",
    "$ pip install NumpyToRender\n",
    "```\n",
    "\n",
    "\n",
    "[repo]: https://github.com/cornusandu/NumpyToRender\n",
    "[docs]: https://cornusandu.github.io/NumpyToRender/\n",
    "[pypi]: https://pypi.org/project/NumpyToRender/\n",
    "[conda]: https://anaconda.org/cornusandu/NumpyToRender"
   ]
  },
  {
   "cell_type": "markdown",
   "metadata": {},
   "source": [
    "### Documentation"
   ]
  },
  {
   "cell_type": "markdown",
   "metadata": {},
   "source": [
    "Documentation can be found hosted on this GitHub [repository][repo]'s [pages][docs]. Additionally you can find package manager specific guidelines on [conda][conda] and [pypi][pypi] respectively.\n",
    "\n",
    "[repo]: https://github.com/cornusandu/NumpyToRender\n",
    "[docs]: https://cornusandu.github.io/NumpyToRender/\n",
    "[pypi]: https://pypi.org/project/NumpyToRender/\n",
    "[conda]: https://anaconda.org/cornusandu/NumpyToRender"
   ]
  },
  {
   "cell_type": "markdown",
   "metadata": {},
   "source": [
    "## How to use"
   ]
  }
 ],
 "metadata": {
  "kernelspec": {
   "display_name": "python3",
   "language": "python",
   "name": "python3"
  }
 },
 "nbformat": 4,
 "nbformat_minor": 4
}
