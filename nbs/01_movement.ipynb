{
 "cells": [
  {
   "cell_type": "markdown",
   "id": "3ff5b1da",
   "metadata": {},
   "source": [
    "# movement\n",
    "\n",
    "> Allows for movement of cells / \"entities\" from one position to another."
   ]
  },
  {
   "cell_type": "code",
   "execution_count": null,
   "id": "4ad997dd",
   "metadata": {},
   "outputs": [],
   "source": [
    "#| default_exp core"
   ]
  },
  {
   "cell_type": "code",
   "execution_count": null,
   "id": "40abf08a",
   "metadata": {},
   "outputs": [],
   "source": [
    "#| hide\n",
    "from nbdev.showdoc import *"
   ]
  },
  {
   "cell_type": "code",
   "execution_count": null,
   "id": "16912af6",
   "metadata": {},
   "outputs": [],
   "source": [
    "#| export\n",
    "import numpy as np"
   ]
  },
  {
   "cell_type": "code",
   "execution_count": null,
   "id": "fb2b2a78",
   "metadata": {},
   "outputs": [],
   "source": [
    "#| export\n",
    "def move_entity(array: np.ndarray, origpos: tuple[int, int], newpos: tuple[int, int], default: int = 0) -> np.ndarray:\n",
    "    x1, y1 = origpos\n",
    "    x2, y2 = newpos\n",
    "    array[y2, x2] = array[y1, x1]\n",
    "    array[y1, x1] = default\n",
    "    return array\n",
    "\n",
    "def move_up(array: np.ndarray, pos: tuple[int, int], default: int = 0) -> np.ndarray:\n",
    "    return move_entity(array, pos, (pos[0], pos[1] - 1), default)\n",
    "\n",
    "def move_down(array: np.ndarray, pos: tuple[int, int], default: int = 0) -> np.ndarray:\n",
    "    return move_entity(array, pos, (pos[0], pos[1] + 1), default)\n",
    "\n",
    "def move_left(array: np.ndarray, pos: tuple[int, int], default: int = 0) -> np.ndarray:\n",
    "    return move_entity(array, pos, (pos[0] - 1, pos[1]), default)\n",
    "\n",
    "def move_right(array: np.ndarray, pos: tuple[int, int], default: int = 0) -> np.ndarray:\n",
    "    return move_entity(array, pos, (pos[0] + 1, pos[1]), default)"
   ]
  },
  {
   "cell_type": "code",
   "execution_count": null,
   "id": "2d403546",
   "metadata": {},
   "outputs": [],
   "source": [
    "#| hide\n",
    "import nbdev; nbdev.nbdev_export()"
   ]
  }
 ],
 "metadata": {
  "kernelspec": {
   "display_name": "python3",
   "language": "python",
   "name": "python3"
  }
 },
 "nbformat": 4,
 "nbformat_minor": 5
}
