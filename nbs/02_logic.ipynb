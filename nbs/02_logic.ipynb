{
 "cells": [
  {
   "cell_type": "markdown",
   "id": "3ff5b1da",
   "metadata": {},
   "source": [
    "# logic\n",
    "\n",
    "> Provides logic-related functionality"
   ]
  },
  {
   "cell_type": "code",
   "execution_count": null,
   "id": "4ad997dd",
   "metadata": {},
   "outputs": [],
   "source": [
    "#| default_exp logic"
   ]
  },
  {
   "cell_type": "code",
   "execution_count": null,
   "id": "40abf08a",
   "metadata": {},
   "outputs": [],
   "source": [
    "#| hide\n",
    "from nbdev.showdoc import *"
   ]
  },
  {
   "cell_type": "code",
   "execution_count": null,
   "id": "16912af6",
   "metadata": {},
   "outputs": [],
   "source": [
    "#| export\n",
    "import numpy as np"
   ]
  },
  {
   "cell_type": "code",
   "execution_count": null,
   "id": "fb2b2a78",
   "metadata": {},
   "outputs": [],
   "source": [
    "#| export\n",
    "def get_up(array: np.ndarray, pos: tuple[int, int]) -> int | None:\n",
    "    \"\"\"Get the value above a given position in the array.\"\"\"\n",
    "    x, y = pos\n",
    "    if x > 0:\n",
    "        return array[x-1, y]\n",
    "    else:\n",
    "        return None\n",
    "    \n",
    "def get_down(array: np.ndarray, pos: tuple[int, int]) -> int | None:\n",
    "    \"\"\"Get the value below a given position in the array.\"\"\"\n",
    "    x, y = pos\n",
    "    if x < array.shape[0] - 1:\n",
    "        return array[x+1, y]\n",
    "    else:\n",
    "        return None\n",
    "    \n",
    "def get_left(array: np.ndarray, pos: tuple[int, int]) -> int | None:\n",
    "    \"\"\"Get the value to the left of a given position in the array.\"\"\"\n",
    "    x, y = pos\n",
    "    if y > 0:\n",
    "        return array[x, y-1]\n",
    "    else:\n",
    "        return None\n",
    "    \n",
    "def get_right(array: np.ndarray, pos: tuple[int, int]) -> int | None:\n",
    "    \"\"\"Get the value to the right of a given position in the array.\"\"\"\n",
    "    x, y = pos\n",
    "    if y < array.shape[1] - 1:\n",
    "        return array[x, y+1]\n",
    "    else:\n",
    "        return None\n",
    "    \n",
    "def get_neighbors(array: np.ndarray, pos: tuple[int, int]) -> list[int]:\n",
    "    \"\"\"Get the values of all 4 neighboring positions (up, down, left, right) in the array.\"\"\"\n",
    "    neighbors = []\n",
    "    for get in [get_up, get_down, get_left, get_right]:\n",
    "        val = get(array, pos)\n",
    "        if val is not None:\n",
    "            neighbors.append(val)\n",
    "    return neighbors\n",
    "\n",
    "def get_all_neighbors(array: np.ndarray, pos: tuple[int, int]) -> list[int]:\n",
    "    \"\"\"Get the values of all 8 neighboring positions in the array.\"\"\"\n",
    "    neighbors = []\n",
    "    x, y = pos\n",
    "    for i in range(-1, 2):\n",
    "        for j in range(-1, 2):\n",
    "            if i == 0 and j == 0:\n",
    "                continue\n",
    "            nx, ny = x + i, y + j\n",
    "            if 0 <= nx < array.shape[0] and 0 <= ny < array.shape[1]:\n",
    "                neighbors.append(array[nx, ny])\n",
    "    return neighbors"
   ]
  },
  {
   "cell_type": "code",
   "execution_count": null,
   "id": "2d403546",
   "metadata": {},
   "outputs": [],
   "source": [
    "#| hide\n",
    "import nbdev; nbdev.nbdev_export()"
   ]
  }
 ],
 "metadata": {
  "kernelspec": {
   "display_name": "python3",
   "language": "python",
   "name": "python3"
  }
 },
 "nbformat": 4,
 "nbformat_minor": 5
}
