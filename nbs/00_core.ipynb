{
 "cells": [
  {
   "cell_type": "markdown",
   "metadata": {},
   "source": [
    "# core\n",
    "\n",
    "> Top-level functionality of the library. Most functions here are simplified for your convenience."
   ]
  },
  {
   "cell_type": "code",
   "execution_count": null,
   "metadata": {},
   "outputs": [],
   "source": [
    "#| default_exp core"
   ]
  },
  {
   "cell_type": "code",
   "execution_count": null,
   "metadata": {},
   "outputs": [],
   "source": [
    "#| hide\n",
    "from nbdev.showdoc import *"
   ]
  },
  {
   "cell_type": "markdown",
   "metadata": {},
   "source": [
    "Internal library data. Data persists between render() cycles."
   ]
  },
  {
   "cell_type": "code",
   "execution_count": null,
   "metadata": {},
   "outputs": [],
   "source": [
    "#| export\n",
    "import numpy as np\n",
    "import pygame\n",
    "\n",
    "_DEFAULT = 0\n",
    "\n",
    "_VALUES = []\n",
    "_COLORS = []\n",
    "\n",
    "class Application:\n",
    "    def __init__(self, title: str, target_fps: int, vsync: bool = False):\n",
    "        self.title = title\n",
    "        self.target_fps = target_fps\n",
    "        self.vsync = vsync\n",
    "\n",
    "    def __hash__(self):\n",
    "        return hash((self.title, self.target_fps, self.vsync))"
   ]
  },
  {
   "cell_type": "markdown",
   "metadata": {},
   "source": [
    "Internal library data. Data does not persist between render() cycles."
   ]
  },
  {
   "cell_type": "code",
   "execution_count": null,
   "metadata": {},
   "outputs": [],
   "source": [
    "_COLOR_OVERRIDES = {}  # (x, y): color"
   ]
  },
  {
   "cell_type": "markdown",
   "metadata": {},
   "source": [
    "User-functions."
   ]
  },
  {
   "cell_type": "code",
   "execution_count": null,
   "metadata": {},
   "outputs": [],
   "source": [
    "#|export\n",
    "def create_array(x: int, y: int) -> np.ndarray:\n",
    "    \"\"\"Create a 2D numpy array with the given dimensions.\"\"\"\n",
    "    return np.zeros((x, y), dtype=int) + _DEFAULT\n",
    "\n",
    "def get_default(_DEFAULT) -> int:\n",
    "    \"\"\"Return the default value.\"\"\"\n",
    "    return _DEFAULT\n",
    "\n",
    "def add_value(value: int, color: pygame.Color):\n",
    "    \"\"\"Add a value and its associated color to the global lists.\"\"\"\n",
    "    _VALUES.append(value)\n",
    "    _COLORS.append(color)\n",
    "\n",
    "def add_color_override(x: int, y: int, color: pygame.Color):\n",
    "    \"\"\"Add a color override for a specific value.\"\"\"\n",
    "    _COLOR_OVERRIDES[(x, y)] = color\n",
    "\n",
    "def render(array: np.ndarray, app: Application | None = None) -> None:\n",
    "    \"\"\"Render + update + frame timing in a single call.\"\"\"\n",
    "    if not app:\n",
    "        app = Application(\"NumpyToRender\", 60)\n",
    "\n",
    "    global _SCREEN, _COLOR_OVERRIDES, _CLOCK\n",
    "    if \"_COLOR_OVERRIDES\" not in globals():\n",
    "        _COLOR_OVERRIDES = {}\n",
    "    if \"_CLOCK\" not in globals():\n",
    "        _CLOCK = pygame.time.Clock()\n",
    "\n",
    "    if not pygame.get_init():\n",
    "        pygame.init()\n",
    "        pygame.display.set_caption(app.title)\n",
    "        _SCREEN = pygame.display.set_mode((array.shape[1], array.shape[0]))\n",
    "\n",
    "    screen = _SCREEN\n",
    "\n",
    "    for x in range(array.shape[0]):\n",
    "        for y in range(array.shape[1]):\n",
    "            color = _COLOR_OVERRIDES.get((x, y),\n",
    "                     _COLORS[_VALUES.index(array[x, y])] if array[x, y] in _VALUES else pygame.Color(0, 0, 0))\n",
    "            screen.set_at((y, x), color)\n",
    "\n",
    "    pygame.display.flip()\n",
    "\n",
    "    if not app.vsync:\n",
    "        _CLOCK.tick(app.target_fps)"
   ]
  },
  {
   "cell_type": "code",
   "execution_count": null,
   "metadata": {},
   "outputs": [],
   "source": [
    "#| hide\n",
    "import nbdev; nbdev.nbdev_export()"
   ]
  }
 ],
 "metadata": {
  "kernelspec": {
   "display_name": "python3",
   "language": "python",
   "name": "python3"
  }
 },
 "nbformat": 4,
 "nbformat_minor": 4
}
